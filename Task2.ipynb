{
 "cells": [
  {
   "cell_type": "markdown",
   "id": "839c5092-d68e-48a8-94af-022ba960d32c",
   "metadata": {},
   "source": [
    "Person object parameters:\n",
    "\n",
    "Joes:\n",
    "has a state: Suceptable, Infected, Recovered\n",
    "has number of days sick\n",
    "chance of being sick\n",
    "\n"
   ]
  },
  {
   "cell_type": "code",
   "execution_count": 4,
   "id": "5eea30be-ad7f-4da0-a86d-665dc2a9146a",
   "metadata": {},
   "outputs": [],
   "source": [
    "import numpy as np\n",
    "import random"
   ]
  },
  {
   "cell_type": "code",
   "execution_count": 19,
   "id": "def204db-e0d2-4a44-ab04-21aa02b9aec3",
   "metadata": {},
   "outputs": [],
   "source": [
    "class Person(object):\n",
    "    def __init__(self):\n",
    "        self.status = \"Susceptible\"\n",
    "        self.days_sick = 0\n",
    "        self.sickness_rate = 10\n",
    "        \n",
    "    def infect(self, number_of_days_sick):\n",
    "        self.status = \"Infected\"\n",
    "        self.days_sick = number_of_days_sick\n",
    "        \n",
    "    def recover(self):\n",
    "        self.status = \"Recovered\"\n",
    "        self.days_sick = 0\n",
    "    \n",
    "    def update(self):\n",
    "        self.days_sick = self.days_sick - 1\n",
    "        if (self.days_sick < 0):\n",
    "            self.recover()\n",
    "    "
   ]
  },
  {
   "cell_type": "markdown",
   "id": "74e87541-e941-4791-a2e9-4c1d513ce595",
   "metadata": {},
   "source": [
    "Let's implement our object\n",
    "start w/ instantiating Joe as a Person"
   ]
  },
  {
   "cell_type": "code",
   "execution_count": 6,
   "id": "e9fea46c-a1db-49b6-a4cf-c402e55240ab",
   "metadata": {},
   "outputs": [],
   "source": [
    "# TASK 2:\n",
    "# Let's meet Joe.\n",
    "# Joe has a friend, Jane\n",
    "# If Joe gets sick, Jane might get sick.\n",
    "# Modify your code, so when Joe gets sick that triggers Jane to roll a random number to see if she gets sick.\n",
    "\n",
    "\n",
    "\n",
    "#Understand: \n",
    "# Joe gets sick, roll his die\n",
    "# Once Joe gets sick, Jane's die for susceptibility needs to roll \n",
    "# \n"
   ]
  },
  {
   "cell_type": "code",
   "execution_count": 18,
   "id": "9bb17182-04c4-450d-87c8-84deba516ddf",
   "metadata": {},
   "outputs": [
    {
     "name": "stdout",
     "output_type": "stream",
     "text": [
      "Joe is Infected. Jane is Susceptible day:1\n",
      "Joe is Infected. Jane is Susceptible day:2\n",
      "Joe is Infected. Jane is Susceptible day:3\n",
      "Joe is Infected. Jane is Susceptible day:4\n",
      "Joe is Infected. Jane is Susceptible day:5\n",
      "Joe is Recovered. Jane is Susceptible day:6\n"
     ]
    }
   ],
   "source": [
    "Joe = Person()\n",
    "Jane = Person()\n",
    "day = 0\n",
    "\n",
    "while (Joe.status != \"Recovered\" and Jane.status != \"Recovered\"):\n",
    "    day = day + 1\n",
    "    \n",
    "    if (Joe.status != \"Infected\"):\n",
    "        Joe_chance_of_getting_sick = random.randint(0, 101) #roll Joe's die\n",
    "        \n",
    "        if (Joe_chance_of_getting_sick < Joe.sickness_rate): #did joe get sick\n",
    "            Joe.infect(4)\n",
    "            Jane_chance_of_getting_sick = random.randint(0, 101) #roll Jane's die\n",
    "            \n",
    "            \n",
    "            if (Jane_chance_of_getting_sick < Jane.sickness_rate):\n",
    "                Jane.infect(4)\n",
    "                \n",
    "            \n",
    "        elif (Jane.status == \"Infected\"):\n",
    "            Jane.update()\n",
    "            \n",
    "    elif (Joe.status == \"Infected\"):\n",
    "        Joe.update()\n",
    "        \n",
    "        \n",
    "        \n",
    "        \n",
    "    print( \"Joe is \" + Joe.status + \". Jane is \" + Jane.status + \" day:\" + str(day))"
   ]
  },
  {
   "cell_type": "code",
   "execution_count": null,
   "id": "27e5cb1c-896d-4286-a989-93c2b24d27ef",
   "metadata": {},
   "outputs": [],
   "source": []
  },
  {
   "cell_type": "code",
   "execution_count": null,
   "id": "0999f6ec-b6e7-411c-95cf-38d40f98df98",
   "metadata": {},
   "outputs": [],
   "source": []
  }
 ],
 "metadata": {
  "IMAGE_NAME": "taccsciapps/ds-nb-img:base-0.1.0",
  "UUID": "f5fba3ea-e6a5-11ec-b09d-b6ecb6431114",
  "kernelspec": {
   "display_name": "Python 3 (ipykernel)",
   "language": "python",
   "name": "python3"
  },
  "language_info": {
   "codemirror_mode": {
    "name": "ipython",
    "version": 3
   },
   "file_extension": ".py",
   "mimetype": "text/x-python",
   "name": "python",
   "nbconvert_exporter": "python",
   "pygments_lexer": "ipython3",
   "version": "3.9.10"
  }
 },
 "nbformat": 4,
 "nbformat_minor": 5
}
